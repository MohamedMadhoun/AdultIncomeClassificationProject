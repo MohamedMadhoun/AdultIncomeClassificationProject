{
  "nbformat": 4,
  "nbformat_minor": 0,
  "metadata": {
    "colab": {
      "provenance": [],
      "mount_file_id": "https://github.com/MohamedMadhoun/AdultIncomeClassificationProject/blob/main/Adult_Income_Classification_Project.ipynb",
      "authorship_tag": "ABX9TyPOMMkyhXq9X+mqJIxRe7k6",
      "include_colab_link": true
    },
    "kernelspec": {
      "name": "python3",
      "display_name": "Python 3"
    },
    "language_info": {
      "name": "python"
    }
  },
  "cells": [
    {
      "cell_type": "markdown",
      "metadata": {
        "id": "view-in-github",
        "colab_type": "text"
      },
      "source": [
        "<a href=\"https://colab.research.google.com/github/MohamedMadhoun/AdultIncomeClassificationProject/blob/main/Adult_Income_Classification_Project.ipynb\" target=\"_parent\"><img src=\"https://colab.research.google.com/assets/colab-badge.svg\" alt=\"Open In Colab\"/></a>"
      ]
    },
    {
      "cell_type": "markdown",
      "source": [
        "# Adult Income Classification Project\n",
        "Author : Mohammed Al-Madhoun"
      ],
      "metadata": {
        "id": "MIvb99timASg"
      }
    },
    {
      "cell_type": "markdown",
      "source": [
        "## Imports"
      ],
      "metadata": {
        "id": "-278j2xzmdco"
      }
    },
    {
      "cell_type": "code",
      "source": [
        "import pandas as pd\n",
        "import numpy as np\n",
        "import matplotlib.pyplot as plt\n",
        "import seaborn as sns\n",
        "from sklearn.model_selection import train_test_split\n",
        "from sklearn.ensemble import RandomForestClassifier\n",
        "from sklearn.preprocessing import OneHotEncoder,OrdinalEncoder, StandardScaler\n",
        "from sklearn.metrics import classification_report, confusion_matrix, accuracy_score\n",
        "from imblearn.over_sampling import SMOTE\n",
        "\n",
        "from sklearn.inspection import permutation_importance\n",
        "from sklearn import set_config\n",
        "set_config(transform_output='pandas')\n"
      ],
      "metadata": {
        "id": "oCIBvTSFmeMX"
      },
      "execution_count": 2,
      "outputs": []
    },
    {
      "cell_type": "code",
      "source": [
        "\n",
        "from sklearn.base import BaseEstimator, TransformerMixin\n",
        "import pandas as pd\n",
        "\n",
        "class GroupByImputer(BaseEstimator, TransformerMixin):\n",
        "    def __init__(self, group_col, target_col):\n",
        "        self.group_col = group_col\n",
        "        self.target_col = target_col\n",
        "        self.fill_values_ = {}\n",
        "\n",
        "    def fit(self, X, y=None):\n",
        "        df = X.copy()\n",
        "        self.fill_values_ = (\n",
        "            df.groupby(self.group_col)[self.target_col]\n",
        "              .agg(lambda x: x.mode().iloc[0] if not x.mode().empty else pd.NA)\n",
        "              .to_dict()\n",
        "        )\n",
        "        self.global_mode_ = (\n",
        "            df[self.target_col].mode().iloc[0]\n",
        "            if not df[self.target_col].mode().empty\n",
        "            else pd.NA\n",
        "        )\n",
        "        return self\n",
        "\n",
        "    def transform(self, X):\n",
        "        df = X.copy()\n",
        "        def impute(row):\n",
        "            if pd.isna(row[self.target_col]):\n",
        "                return self.fill_values_.get(row[self.group_col], self.global_mode_)\n",
        "            else:\n",
        "                return row[self.target_col]\n",
        "\n",
        "        df[self.target_col] = df.apply(impute, axis=1)\n",
        "        return df[[self.target_col]]"
      ],
      "metadata": {
        "id": "cvUXNAeSt3WW"
      },
      "execution_count": 3,
      "outputs": []
    },
    {
      "cell_type": "code",
      "source": [
        "from sklearn.metrics import ConfusionMatrixDisplay, classification_report, RocCurveDisplay\n",
        "def classification_metrics(y_true, y_pred, label='',\n",
        "                           output_dict=False, figsize=(8,4),\n",
        "                           normalize='true', cmap='Blues',\n",
        "                           colorbar=False):\n",
        "  # Get the classification report\n",
        "  report = classification_report(y_true, y_pred)\n",
        "  ## Print header and report\n",
        "  header = \"-\"*70\n",
        "  print(header, f\" Classification Metrics: {label}\", header, sep='\\n')\n",
        "  print(report)\n",
        "  ## CONFUSION MATRICES SUBPLOT\n",
        "  fig, axes = plt.subplots(ncols=2, figsize=figsize)\n",
        "  # create a confusion matrix  of raw counts\n",
        "  ConfusionMatrixDisplay.from_predictions(y_true, y_pred,\n",
        "                normalize=None, cmap='gist_gray',colorbar=colorbar,\n",
        "                ax = axes[0],);\n",
        "  axes[0].set_title(\"Raw Counts\")\n",
        "  # create a confusion matrix with the test data\n",
        "  ConfusionMatrixDisplay.from_predictions(y_true, y_pred,\n",
        "                normalize=normalize, cmap=cmap,colorbar=colorbar,\n",
        "                ax = axes[1]);\n",
        "  axes[1].set_title(\"Normalized Confusion Matrix\")\n",
        "  fig.tight_layout()\n",
        "  plt.show()\n",
        "  if output_dict==True:\n",
        "    report_dict = classification_report(y_true, y_pred, output_dict=True)\n",
        "    return report_dict\n",
        "def evaluate_classification(model, X_train, y_train, X_test, y_test,\n",
        "                         figsize=(6,4), normalize='true', output_dict = False,\n",
        "                            cmap_train='Blues', cmap_test=\"Reds\",colorbar=False):\n",
        "  # Get predictions for training data\n",
        "  y_train_pred = model.predict(X_train)\n",
        "  # Call the helper function to obtain regression metrics for training data\n",
        "  results_train = classification_metrics(y_train, y_train_pred, #verbose = verbose,\n",
        "                                     output_dict=True, figsize=figsize,\n",
        "                                         colorbar=colorbar, cmap=cmap_train,\n",
        "                                     label='Training Data')\n",
        "  print()\n",
        "  # Get predictions for test data\n",
        "  y_test_pred = model.predict(X_test)\n",
        "  # Call the helper function to obtain regression metrics for test data\n",
        "  results_test = classification_metrics(y_test, y_test_pred, #verbose = verbose,\n",
        "                                  output_dict=True,figsize=figsize,\n",
        "                                         colorbar=colorbar, cmap=cmap_test,\n",
        "                                    label='Test Data' )\n",
        "  if output_dict == True:\n",
        "    # Store results in a dataframe if ouput_frame is True\n",
        "    results_dict = {'train':results_train,\n",
        "                    'test': results_test}\n",
        "    return results_dict\n"
      ],
      "metadata": {
        "id": "dOv1U71JD1GG"
      },
      "execution_count": 4,
      "outputs": []
    },
    {
      "cell_type": "code",
      "source": [
        "def plot_importance_color_ax(importances, top_n=None,  figsize=(8,6),\n",
        "                          color_dict=None, ax=None):\n",
        "\n",
        "    # sorting with asc=false for correct order of bars\n",
        "    if top_n==None:\n",
        "        ## sort all features and set title\n",
        "        plot_vals = importances.sort_values()\n",
        "        title = \"All Features - Ranked by Importance\"\n",
        "    else:\n",
        "        ## sort features and keep top_n and set title\n",
        "        plot_vals = importances.sort_values().tail(top_n)\n",
        "        title = f\"Top {top_n} Most Important Features\"\n",
        "    ## create plot with colors, if provided\n",
        "    if color_dict is not None:\n",
        "        ## Getting color list and saving to plot_kws\n",
        "        colors = plot_vals.index.map(color_dict)\n",
        "        ax = plot_vals.plot(kind='barh', figsize=figsize, color=colors, ax=ax)\n",
        "\n",
        "    else:\n",
        "        ## create plot without colors, if not provided\n",
        "        ax = plot_vals.plot(kind='barh', figsize=figsize, ax=ax)\n",
        "\n",
        "    # set titles and axis labels\n",
        "    ax.set(xlabel='Importance',\n",
        "           ylabel='Feature Names',\n",
        "           title=title)\n",
        "\n",
        "    ## return ax in case want to continue to update/modify figure\n",
        "    return ax"
      ],
      "metadata": {
        "id": "mN_b5w7XLM5N"
      },
      "execution_count": 5,
      "outputs": []
    },
    {
      "cell_type": "markdown",
      "source": [
        "## Loading Data"
      ],
      "metadata": {
        "id": "DqsJx4lZmtK-"
      }
    },
    {
      "cell_type": "code",
      "execution_count": 6,
      "metadata": {
        "colab": {
          "base_uri": "https://localhost:8080/",
          "height": 400
        },
        "id": "FpewvzK2kNhi",
        "outputId": "c22aecfc-07f7-4ba4-a515-1ee58ffe6929"
      },
      "outputs": [
        {
          "output_type": "execute_result",
          "data": {
            "text/plain": [
              "   age  workclass  fnlwgt     education  educational-num      marital-status  \\\n",
              "0   25    Private  226802          11th                7       Never-married   \n",
              "1   38    Private   89814       HS-grad                9  Married-civ-spouse   \n",
              "2   28  Local-gov  336951    Assoc-acdm               12  Married-civ-spouse   \n",
              "3   44    Private  160323  Some-college               10  Married-civ-spouse   \n",
              "4   18          ?  103497  Some-college               10       Never-married   \n",
              "\n",
              "          occupation relationship   race  gender  capital-gain  capital-loss  \\\n",
              "0  Machine-op-inspct    Own-child  Black    Male             0             0   \n",
              "1    Farming-fishing      Husband  White    Male             0             0   \n",
              "2    Protective-serv      Husband  White    Male             0             0   \n",
              "3  Machine-op-inspct      Husband  Black    Male          7688             0   \n",
              "4                  ?    Own-child  White  Female             0             0   \n",
              "\n",
              "   hours-per-week native-country income  \n",
              "0              40  United-States  <=50K  \n",
              "1              50  United-States  <=50K  \n",
              "2              40  United-States   >50K  \n",
              "3              40  United-States   >50K  \n",
              "4              30  United-States  <=50K  "
            ],
            "text/html": [
              "\n",
              "  <div id=\"df-93c315b4-9bdb-418d-bdb0-82074e4b8690\" class=\"colab-df-container\">\n",
              "    <div>\n",
              "<style scoped>\n",
              "    .dataframe tbody tr th:only-of-type {\n",
              "        vertical-align: middle;\n",
              "    }\n",
              "\n",
              "    .dataframe tbody tr th {\n",
              "        vertical-align: top;\n",
              "    }\n",
              "\n",
              "    .dataframe thead th {\n",
              "        text-align: right;\n",
              "    }\n",
              "</style>\n",
              "<table border=\"1\" class=\"dataframe\">\n",
              "  <thead>\n",
              "    <tr style=\"text-align: right;\">\n",
              "      <th></th>\n",
              "      <th>age</th>\n",
              "      <th>workclass</th>\n",
              "      <th>fnlwgt</th>\n",
              "      <th>education</th>\n",
              "      <th>educational-num</th>\n",
              "      <th>marital-status</th>\n",
              "      <th>occupation</th>\n",
              "      <th>relationship</th>\n",
              "      <th>race</th>\n",
              "      <th>gender</th>\n",
              "      <th>capital-gain</th>\n",
              "      <th>capital-loss</th>\n",
              "      <th>hours-per-week</th>\n",
              "      <th>native-country</th>\n",
              "      <th>income</th>\n",
              "    </tr>\n",
              "  </thead>\n",
              "  <tbody>\n",
              "    <tr>\n",
              "      <th>0</th>\n",
              "      <td>25</td>\n",
              "      <td>Private</td>\n",
              "      <td>226802</td>\n",
              "      <td>11th</td>\n",
              "      <td>7</td>\n",
              "      <td>Never-married</td>\n",
              "      <td>Machine-op-inspct</td>\n",
              "      <td>Own-child</td>\n",
              "      <td>Black</td>\n",
              "      <td>Male</td>\n",
              "      <td>0</td>\n",
              "      <td>0</td>\n",
              "      <td>40</td>\n",
              "      <td>United-States</td>\n",
              "      <td>&lt;=50K</td>\n",
              "    </tr>\n",
              "    <tr>\n",
              "      <th>1</th>\n",
              "      <td>38</td>\n",
              "      <td>Private</td>\n",
              "      <td>89814</td>\n",
              "      <td>HS-grad</td>\n",
              "      <td>9</td>\n",
              "      <td>Married-civ-spouse</td>\n",
              "      <td>Farming-fishing</td>\n",
              "      <td>Husband</td>\n",
              "      <td>White</td>\n",
              "      <td>Male</td>\n",
              "      <td>0</td>\n",
              "      <td>0</td>\n",
              "      <td>50</td>\n",
              "      <td>United-States</td>\n",
              "      <td>&lt;=50K</td>\n",
              "    </tr>\n",
              "    <tr>\n",
              "      <th>2</th>\n",
              "      <td>28</td>\n",
              "      <td>Local-gov</td>\n",
              "      <td>336951</td>\n",
              "      <td>Assoc-acdm</td>\n",
              "      <td>12</td>\n",
              "      <td>Married-civ-spouse</td>\n",
              "      <td>Protective-serv</td>\n",
              "      <td>Husband</td>\n",
              "      <td>White</td>\n",
              "      <td>Male</td>\n",
              "      <td>0</td>\n",
              "      <td>0</td>\n",
              "      <td>40</td>\n",
              "      <td>United-States</td>\n",
              "      <td>&gt;50K</td>\n",
              "    </tr>\n",
              "    <tr>\n",
              "      <th>3</th>\n",
              "      <td>44</td>\n",
              "      <td>Private</td>\n",
              "      <td>160323</td>\n",
              "      <td>Some-college</td>\n",
              "      <td>10</td>\n",
              "      <td>Married-civ-spouse</td>\n",
              "      <td>Machine-op-inspct</td>\n",
              "      <td>Husband</td>\n",
              "      <td>Black</td>\n",
              "      <td>Male</td>\n",
              "      <td>7688</td>\n",
              "      <td>0</td>\n",
              "      <td>40</td>\n",
              "      <td>United-States</td>\n",
              "      <td>&gt;50K</td>\n",
              "    </tr>\n",
              "    <tr>\n",
              "      <th>4</th>\n",
              "      <td>18</td>\n",
              "      <td>?</td>\n",
              "      <td>103497</td>\n",
              "      <td>Some-college</td>\n",
              "      <td>10</td>\n",
              "      <td>Never-married</td>\n",
              "      <td>?</td>\n",
              "      <td>Own-child</td>\n",
              "      <td>White</td>\n",
              "      <td>Female</td>\n",
              "      <td>0</td>\n",
              "      <td>0</td>\n",
              "      <td>30</td>\n",
              "      <td>United-States</td>\n",
              "      <td>&lt;=50K</td>\n",
              "    </tr>\n",
              "  </tbody>\n",
              "</table>\n",
              "</div>\n",
              "    <div class=\"colab-df-buttons\">\n",
              "\n",
              "  <div class=\"colab-df-container\">\n",
              "    <button class=\"colab-df-convert\" onclick=\"convertToInteractive('df-93c315b4-9bdb-418d-bdb0-82074e4b8690')\"\n",
              "            title=\"Convert this dataframe to an interactive table.\"\n",
              "            style=\"display:none;\">\n",
              "\n",
              "  <svg xmlns=\"http://www.w3.org/2000/svg\" height=\"24px\" viewBox=\"0 -960 960 960\">\n",
              "    <path d=\"M120-120v-720h720v720H120Zm60-500h600v-160H180v160Zm220 220h160v-160H400v160Zm0 220h160v-160H400v160ZM180-400h160v-160H180v160Zm440 0h160v-160H620v160ZM180-180h160v-160H180v160Zm440 0h160v-160H620v160Z\"/>\n",
              "  </svg>\n",
              "    </button>\n",
              "\n",
              "  <style>\n",
              "    .colab-df-container {\n",
              "      display:flex;\n",
              "      gap: 12px;\n",
              "    }\n",
              "\n",
              "    .colab-df-convert {\n",
              "      background-color: #E8F0FE;\n",
              "      border: none;\n",
              "      border-radius: 50%;\n",
              "      cursor: pointer;\n",
              "      display: none;\n",
              "      fill: #1967D2;\n",
              "      height: 32px;\n",
              "      padding: 0 0 0 0;\n",
              "      width: 32px;\n",
              "    }\n",
              "\n",
              "    .colab-df-convert:hover {\n",
              "      background-color: #E2EBFA;\n",
              "      box-shadow: 0px 1px 2px rgba(60, 64, 67, 0.3), 0px 1px 3px 1px rgba(60, 64, 67, 0.15);\n",
              "      fill: #174EA6;\n",
              "    }\n",
              "\n",
              "    .colab-df-buttons div {\n",
              "      margin-bottom: 4px;\n",
              "    }\n",
              "\n",
              "    [theme=dark] .colab-df-convert {\n",
              "      background-color: #3B4455;\n",
              "      fill: #D2E3FC;\n",
              "    }\n",
              "\n",
              "    [theme=dark] .colab-df-convert:hover {\n",
              "      background-color: #434B5C;\n",
              "      box-shadow: 0px 1px 3px 1px rgba(0, 0, 0, 0.15);\n",
              "      filter: drop-shadow(0px 1px 2px rgba(0, 0, 0, 0.3));\n",
              "      fill: #FFFFFF;\n",
              "    }\n",
              "  </style>\n",
              "\n",
              "    <script>\n",
              "      const buttonEl =\n",
              "        document.querySelector('#df-93c315b4-9bdb-418d-bdb0-82074e4b8690 button.colab-df-convert');\n",
              "      buttonEl.style.display =\n",
              "        google.colab.kernel.accessAllowed ? 'block' : 'none';\n",
              "\n",
              "      async function convertToInteractive(key) {\n",
              "        const element = document.querySelector('#df-93c315b4-9bdb-418d-bdb0-82074e4b8690');\n",
              "        const dataTable =\n",
              "          await google.colab.kernel.invokeFunction('convertToInteractive',\n",
              "                                                    [key], {});\n",
              "        if (!dataTable) return;\n",
              "\n",
              "        const docLinkHtml = 'Like what you see? Visit the ' +\n",
              "          '<a target=\"_blank\" href=https://colab.research.google.com/notebooks/data_table.ipynb>data table notebook</a>'\n",
              "          + ' to learn more about interactive tables.';\n",
              "        element.innerHTML = '';\n",
              "        dataTable['output_type'] = 'display_data';\n",
              "        await google.colab.output.renderOutput(dataTable, element);\n",
              "        const docLink = document.createElement('div');\n",
              "        docLink.innerHTML = docLinkHtml;\n",
              "        element.appendChild(docLink);\n",
              "      }\n",
              "    </script>\n",
              "  </div>\n",
              "\n",
              "\n",
              "    <div id=\"df-c0a8298d-c972-421c-aa03-f838c33b9fe1\">\n",
              "      <button class=\"colab-df-quickchart\" onclick=\"quickchart('df-c0a8298d-c972-421c-aa03-f838c33b9fe1')\"\n",
              "                title=\"Suggest charts\"\n",
              "                style=\"display:none;\">\n",
              "\n",
              "<svg xmlns=\"http://www.w3.org/2000/svg\" height=\"24px\"viewBox=\"0 0 24 24\"\n",
              "     width=\"24px\">\n",
              "    <g>\n",
              "        <path d=\"M19 3H5c-1.1 0-2 .9-2 2v14c0 1.1.9 2 2 2h14c1.1 0 2-.9 2-2V5c0-1.1-.9-2-2-2zM9 17H7v-7h2v7zm4 0h-2V7h2v10zm4 0h-2v-4h2v4z\"/>\n",
              "    </g>\n",
              "</svg>\n",
              "      </button>\n",
              "\n",
              "<style>\n",
              "  .colab-df-quickchart {\n",
              "      --bg-color: #E8F0FE;\n",
              "      --fill-color: #1967D2;\n",
              "      --hover-bg-color: #E2EBFA;\n",
              "      --hover-fill-color: #174EA6;\n",
              "      --disabled-fill-color: #AAA;\n",
              "      --disabled-bg-color: #DDD;\n",
              "  }\n",
              "\n",
              "  [theme=dark] .colab-df-quickchart {\n",
              "      --bg-color: #3B4455;\n",
              "      --fill-color: #D2E3FC;\n",
              "      --hover-bg-color: #434B5C;\n",
              "      --hover-fill-color: #FFFFFF;\n",
              "      --disabled-bg-color: #3B4455;\n",
              "      --disabled-fill-color: #666;\n",
              "  }\n",
              "\n",
              "  .colab-df-quickchart {\n",
              "    background-color: var(--bg-color);\n",
              "    border: none;\n",
              "    border-radius: 50%;\n",
              "    cursor: pointer;\n",
              "    display: none;\n",
              "    fill: var(--fill-color);\n",
              "    height: 32px;\n",
              "    padding: 0;\n",
              "    width: 32px;\n",
              "  }\n",
              "\n",
              "  .colab-df-quickchart:hover {\n",
              "    background-color: var(--hover-bg-color);\n",
              "    box-shadow: 0 1px 2px rgba(60, 64, 67, 0.3), 0 1px 3px 1px rgba(60, 64, 67, 0.15);\n",
              "    fill: var(--button-hover-fill-color);\n",
              "  }\n",
              "\n",
              "  .colab-df-quickchart-complete:disabled,\n",
              "  .colab-df-quickchart-complete:disabled:hover {\n",
              "    background-color: var(--disabled-bg-color);\n",
              "    fill: var(--disabled-fill-color);\n",
              "    box-shadow: none;\n",
              "  }\n",
              "\n",
              "  .colab-df-spinner {\n",
              "    border: 2px solid var(--fill-color);\n",
              "    border-color: transparent;\n",
              "    border-bottom-color: var(--fill-color);\n",
              "    animation:\n",
              "      spin 1s steps(1) infinite;\n",
              "  }\n",
              "\n",
              "  @keyframes spin {\n",
              "    0% {\n",
              "      border-color: transparent;\n",
              "      border-bottom-color: var(--fill-color);\n",
              "      border-left-color: var(--fill-color);\n",
              "    }\n",
              "    20% {\n",
              "      border-color: transparent;\n",
              "      border-left-color: var(--fill-color);\n",
              "      border-top-color: var(--fill-color);\n",
              "    }\n",
              "    30% {\n",
              "      border-color: transparent;\n",
              "      border-left-color: var(--fill-color);\n",
              "      border-top-color: var(--fill-color);\n",
              "      border-right-color: var(--fill-color);\n",
              "    }\n",
              "    40% {\n",
              "      border-color: transparent;\n",
              "      border-right-color: var(--fill-color);\n",
              "      border-top-color: var(--fill-color);\n",
              "    }\n",
              "    60% {\n",
              "      border-color: transparent;\n",
              "      border-right-color: var(--fill-color);\n",
              "    }\n",
              "    80% {\n",
              "      border-color: transparent;\n",
              "      border-right-color: var(--fill-color);\n",
              "      border-bottom-color: var(--fill-color);\n",
              "    }\n",
              "    90% {\n",
              "      border-color: transparent;\n",
              "      border-bottom-color: var(--fill-color);\n",
              "    }\n",
              "  }\n",
              "</style>\n",
              "\n",
              "      <script>\n",
              "        async function quickchart(key) {\n",
              "          const quickchartButtonEl =\n",
              "            document.querySelector('#' + key + ' button');\n",
              "          quickchartButtonEl.disabled = true;  // To prevent multiple clicks.\n",
              "          quickchartButtonEl.classList.add('colab-df-spinner');\n",
              "          try {\n",
              "            const charts = await google.colab.kernel.invokeFunction(\n",
              "                'suggestCharts', [key], {});\n",
              "          } catch (error) {\n",
              "            console.error('Error during call to suggestCharts:', error);\n",
              "          }\n",
              "          quickchartButtonEl.classList.remove('colab-df-spinner');\n",
              "          quickchartButtonEl.classList.add('colab-df-quickchart-complete');\n",
              "        }\n",
              "        (() => {\n",
              "          let quickchartButtonEl =\n",
              "            document.querySelector('#df-c0a8298d-c972-421c-aa03-f838c33b9fe1 button');\n",
              "          quickchartButtonEl.style.display =\n",
              "            google.colab.kernel.accessAllowed ? 'block' : 'none';\n",
              "        })();\n",
              "      </script>\n",
              "    </div>\n",
              "\n",
              "    </div>\n",
              "  </div>\n"
            ],
            "application/vnd.google.colaboratory.intrinsic+json": {
              "type": "dataframe",
              "variable_name": "df",
              "summary": "{\n  \"name\": \"df\",\n  \"rows\": 48842,\n  \"fields\": [\n    {\n      \"column\": \"age\",\n      \"properties\": {\n        \"dtype\": \"number\",\n        \"std\": 13,\n        \"min\": 17,\n        \"max\": 90,\n        \"num_unique_values\": 74,\n        \"samples\": [\n          18,\n          74,\n          40\n        ],\n        \"semantic_type\": \"\",\n        \"description\": \"\"\n      }\n    },\n    {\n      \"column\": \"workclass\",\n      \"properties\": {\n        \"dtype\": \"category\",\n        \"num_unique_values\": 9,\n        \"samples\": [\n          \"Without-pay\",\n          \"Local-gov\",\n          \"State-gov\"\n        ],\n        \"semantic_type\": \"\",\n        \"description\": \"\"\n      }\n    },\n    {\n      \"column\": \"fnlwgt\",\n      \"properties\": {\n        \"dtype\": \"number\",\n        \"std\": 105604,\n        \"min\": 12285,\n        \"max\": 1490400,\n        \"num_unique_values\": 28523,\n        \"samples\": [\n          171041,\n          20296,\n          263896\n        ],\n        \"semantic_type\": \"\",\n        \"description\": \"\"\n      }\n    },\n    {\n      \"column\": \"education\",\n      \"properties\": {\n        \"dtype\": \"category\",\n        \"num_unique_values\": 16,\n        \"samples\": [\n          \"11th\",\n          \"HS-grad\",\n          \"Prof-school\"\n        ],\n        \"semantic_type\": \"\",\n        \"description\": \"\"\n      }\n    },\n    {\n      \"column\": \"educational-num\",\n      \"properties\": {\n        \"dtype\": \"number\",\n        \"std\": 2,\n        \"min\": 1,\n        \"max\": 16,\n        \"num_unique_values\": 16,\n        \"samples\": [\n          7,\n          9,\n          15\n        ],\n        \"semantic_type\": \"\",\n        \"description\": \"\"\n      }\n    },\n    {\n      \"column\": \"marital-status\",\n      \"properties\": {\n        \"dtype\": \"category\",\n        \"num_unique_values\": 7,\n        \"samples\": [\n          \"Never-married\",\n          \"Married-civ-spouse\",\n          \"Married-spouse-absent\"\n        ],\n        \"semantic_type\": \"\",\n        \"description\": \"\"\n      }\n    },\n    {\n      \"column\": \"occupation\",\n      \"properties\": {\n        \"dtype\": \"category\",\n        \"num_unique_values\": 15,\n        \"samples\": [\n          \"Tech-support\",\n          \"Priv-house-serv\",\n          \"Machine-op-inspct\"\n        ],\n        \"semantic_type\": \"\",\n        \"description\": \"\"\n      }\n    },\n    {\n      \"column\": \"relationship\",\n      \"properties\": {\n        \"dtype\": \"category\",\n        \"num_unique_values\": 6,\n        \"samples\": [\n          \"Own-child\",\n          \"Husband\",\n          \"Other-relative\"\n        ],\n        \"semantic_type\": \"\",\n        \"description\": \"\"\n      }\n    },\n    {\n      \"column\": \"race\",\n      \"properties\": {\n        \"dtype\": \"category\",\n        \"num_unique_values\": 5,\n        \"samples\": [\n          \"White\",\n          \"Amer-Indian-Eskimo\",\n          \"Asian-Pac-Islander\"\n        ],\n        \"semantic_type\": \"\",\n        \"description\": \"\"\n      }\n    },\n    {\n      \"column\": \"gender\",\n      \"properties\": {\n        \"dtype\": \"category\",\n        \"num_unique_values\": 2,\n        \"samples\": [\n          \"Female\",\n          \"Male\"\n        ],\n        \"semantic_type\": \"\",\n        \"description\": \"\"\n      }\n    },\n    {\n      \"column\": \"capital-gain\",\n      \"properties\": {\n        \"dtype\": \"number\",\n        \"std\": 7452,\n        \"min\": 0,\n        \"max\": 99999,\n        \"num_unique_values\": 123,\n        \"samples\": [\n          4064,\n          4787\n        ],\n        \"semantic_type\": \"\",\n        \"description\": \"\"\n      }\n    },\n    {\n      \"column\": \"capital-loss\",\n      \"properties\": {\n        \"dtype\": \"number\",\n        \"std\": 403,\n        \"min\": 0,\n        \"max\": 4356,\n        \"num_unique_values\": 99,\n        \"samples\": [\n          2238,\n          1564\n        ],\n        \"semantic_type\": \"\",\n        \"description\": \"\"\n      }\n    },\n    {\n      \"column\": \"hours-per-week\",\n      \"properties\": {\n        \"dtype\": \"number\",\n        \"std\": 12,\n        \"min\": 1,\n        \"max\": 99,\n        \"num_unique_values\": 96,\n        \"samples\": [\n          9,\n          11\n        ],\n        \"semantic_type\": \"\",\n        \"description\": \"\"\n      }\n    },\n    {\n      \"column\": \"native-country\",\n      \"properties\": {\n        \"dtype\": \"category\",\n        \"num_unique_values\": 42,\n        \"samples\": [\n          \"Canada\",\n          \"Vietnam\"\n        ],\n        \"semantic_type\": \"\",\n        \"description\": \"\"\n      }\n    },\n    {\n      \"column\": \"income\",\n      \"properties\": {\n        \"dtype\": \"category\",\n        \"num_unique_values\": 2,\n        \"samples\": [\n          \">50K\",\n          \"<=50K\"\n        ],\n        \"semantic_type\": \"\",\n        \"description\": \"\"\n      }\n    }\n  ]\n}"
            }
          },
          "metadata": {},
          "execution_count": 6
        }
      ],
      "source": [
        "df = pd.read_csv('/content/drive/MyDrive/AXSOSACADEMY/05-IntermediateML/Week17/Data/adult.csv')\n",
        "df.head()"
      ]
    },
    {
      "cell_type": "code",
      "source": [
        "df.info()"
      ],
      "metadata": {
        "colab": {
          "base_uri": "https://localhost:8080/"
        },
        "id": "a2YxLtF_m5HX",
        "outputId": "96ae16f8-dc39-44b0-cd37-8949f7ca7d66"
      },
      "execution_count": 7,
      "outputs": [
        {
          "output_type": "stream",
          "name": "stdout",
          "text": [
            "<class 'pandas.core.frame.DataFrame'>\n",
            "RangeIndex: 48842 entries, 0 to 48841\n",
            "Data columns (total 15 columns):\n",
            " #   Column           Non-Null Count  Dtype \n",
            "---  ------           --------------  ----- \n",
            " 0   age              48842 non-null  int64 \n",
            " 1   workclass        48842 non-null  object\n",
            " 2   fnlwgt           48842 non-null  int64 \n",
            " 3   education        48842 non-null  object\n",
            " 4   educational-num  48842 non-null  int64 \n",
            " 5   marital-status   48842 non-null  object\n",
            " 6   occupation       48842 non-null  object\n",
            " 7   relationship     48842 non-null  object\n",
            " 8   race             48842 non-null  object\n",
            " 9   gender           48842 non-null  object\n",
            " 10  capital-gain     48842 non-null  int64 \n",
            " 11  capital-loss     48842 non-null  int64 \n",
            " 12  hours-per-week   48842 non-null  int64 \n",
            " 13  native-country   48842 non-null  object\n",
            " 14  income           48842 non-null  object\n",
            "dtypes: int64(6), object(9)\n",
            "memory usage: 5.6+ MB\n"
          ]
        }
      ]
    },
    {
      "cell_type": "markdown",
      "source": [
        "## Data Cleaning"
      ],
      "metadata": {
        "id": "iiKW8oGUnxhf"
      }
    },
    {
      "cell_type": "markdown",
      "source": [
        "How many rows/columns:"
      ],
      "metadata": {
        "id": "71BugmUlnyvX"
      }
    },
    {
      "cell_type": "code",
      "source": [
        "df.shape"
      ],
      "metadata": {
        "colab": {
          "base_uri": "https://localhost:8080/"
        },
        "id": "XiDCn6Epn1kf",
        "outputId": "c9be3fe6-cfea-472f-d9ea-bc338f86f7c6"
      },
      "execution_count": 8,
      "outputs": [
        {
          "output_type": "execute_result",
          "data": {
            "text/plain": [
              "(48842, 15)"
            ]
          },
          "metadata": {},
          "execution_count": 8
        }
      ]
    },
    {
      "cell_type": "markdown",
      "source": [
        " - There are 48842 rows and 15 columns"
      ],
      "metadata": {
        "id": "8LctZtNZn6jv"
      }
    },
    {
      "cell_type": "markdown",
      "source": [
        "Checking the data types:"
      ],
      "metadata": {
        "id": "LpvaAzlpoA96"
      }
    },
    {
      "cell_type": "code",
      "source": [
        "df.dtypes"
      ],
      "metadata": {
        "colab": {
          "base_uri": "https://localhost:8080/",
          "height": 554
        },
        "id": "VAA0iOyRoBgf",
        "outputId": "92bd489e-1287-4965-d12c-f31f41890e63"
      },
      "execution_count": 9,
      "outputs": [
        {
          "output_type": "execute_result",
          "data": {
            "text/plain": [
              "age                 int64\n",
              "workclass          object\n",
              "fnlwgt              int64\n",
              "education          object\n",
              "educational-num     int64\n",
              "marital-status     object\n",
              "occupation         object\n",
              "relationship       object\n",
              "race               object\n",
              "gender             object\n",
              "capital-gain        int64\n",
              "capital-loss        int64\n",
              "hours-per-week      int64\n",
              "native-country     object\n",
              "income             object\n",
              "dtype: object"
            ],
            "text/html": [
              "<div>\n",
              "<style scoped>\n",
              "    .dataframe tbody tr th:only-of-type {\n",
              "        vertical-align: middle;\n",
              "    }\n",
              "\n",
              "    .dataframe tbody tr th {\n",
              "        vertical-align: top;\n",
              "    }\n",
              "\n",
              "    .dataframe thead th {\n",
              "        text-align: right;\n",
              "    }\n",
              "</style>\n",
              "<table border=\"1\" class=\"dataframe\">\n",
              "  <thead>\n",
              "    <tr style=\"text-align: right;\">\n",
              "      <th></th>\n",
              "      <th>0</th>\n",
              "    </tr>\n",
              "  </thead>\n",
              "  <tbody>\n",
              "    <tr>\n",
              "      <th>age</th>\n",
              "      <td>int64</td>\n",
              "    </tr>\n",
              "    <tr>\n",
              "      <th>workclass</th>\n",
              "      <td>object</td>\n",
              "    </tr>\n",
              "    <tr>\n",
              "      <th>fnlwgt</th>\n",
              "      <td>int64</td>\n",
              "    </tr>\n",
              "    <tr>\n",
              "      <th>education</th>\n",
              "      <td>object</td>\n",
              "    </tr>\n",
              "    <tr>\n",
              "      <th>educational-num</th>\n",
              "      <td>int64</td>\n",
              "    </tr>\n",
              "    <tr>\n",
              "      <th>marital-status</th>\n",
              "      <td>object</td>\n",
              "    </tr>\n",
              "    <tr>\n",
              "      <th>occupation</th>\n",
              "      <td>object</td>\n",
              "    </tr>\n",
              "    <tr>\n",
              "      <th>relationship</th>\n",
              "      <td>object</td>\n",
              "    </tr>\n",
              "    <tr>\n",
              "      <th>race</th>\n",
              "      <td>object</td>\n",
              "    </tr>\n",
              "    <tr>\n",
              "      <th>gender</th>\n",
              "      <td>object</td>\n",
              "    </tr>\n",
              "    <tr>\n",
              "      <th>capital-gain</th>\n",
              "      <td>int64</td>\n",
              "    </tr>\n",
              "    <tr>\n",
              "      <th>capital-loss</th>\n",
              "      <td>int64</td>\n",
              "    </tr>\n",
              "    <tr>\n",
              "      <th>hours-per-week</th>\n",
              "      <td>int64</td>\n",
              "    </tr>\n",
              "    <tr>\n",
              "      <th>native-country</th>\n",
              "      <td>object</td>\n",
              "    </tr>\n",
              "    <tr>\n",
              "      <th>income</th>\n",
              "      <td>object</td>\n",
              "    </tr>\n",
              "  </tbody>\n",
              "</table>\n",
              "</div><br><label><b>dtype:</b> object</label>"
            ]
          },
          "metadata": {},
          "execution_count": 9
        }
      ]
    },
    {
      "cell_type": "markdown",
      "source": [
        " - All other data types are as they should be."
      ],
      "metadata": {
        "id": "4X4xVKXaoSO-"
      }
    },
    {
      "cell_type": "markdown",
      "source": [
        "### Duplicated Data\n",
        "Checking for duplicated data:"
      ],
      "metadata": {
        "id": "DBMDPv1yodyn"
      }
    },
    {
      "cell_type": "code",
      "source": [
        "df.duplicated().sum()"
      ],
      "metadata": {
        "colab": {
          "base_uri": "https://localhost:8080/"
        },
        "id": "DG4L0Lo7oegn",
        "outputId": "1ae34f48-a651-41c1-8cf7-3ea19afc3f2c"
      },
      "execution_count": 10,
      "outputs": [
        {
          "output_type": "execute_result",
          "data": {
            "text/plain": [
              "np.int64(52)"
            ]
          },
          "metadata": {},
          "execution_count": 10
        }
      ]
    },
    {
      "cell_type": "markdown",
      "source": [
        "- There are 52 duplicates in the dataset which we will drop."
      ],
      "metadata": {
        "id": "U6PBIiS7oiHO"
      }
    },
    {
      "cell_type": "code",
      "source": [
        "df.drop_duplicates(inplace = True)"
      ],
      "metadata": {
        "id": "69QvO3Nuolof"
      },
      "execution_count": 11,
      "outputs": []
    },
    {
      "cell_type": "code",
      "source": [
        "df.duplicated().sum()"
      ],
      "metadata": {
        "colab": {
          "base_uri": "https://localhost:8080/"
        },
        "id": "wnbmbjH-onOH",
        "outputId": "c9ea87b4-b7d6-4ae9-82ce-f2c1c706ea1b"
      },
      "execution_count": 12,
      "outputs": [
        {
          "output_type": "execute_result",
          "data": {
            "text/plain": [
              "np.int64(0)"
            ]
          },
          "metadata": {},
          "execution_count": 12
        }
      ]
    },
    {
      "cell_type": "markdown",
      "source": [
        "- Checking to make sure duplicates were dropped."
      ],
      "metadata": {
        "id": "HmdXve_ropDP"
      }
    },
    {
      "cell_type": "code",
      "source": [
        "df.nunique()"
      ],
      "metadata": {
        "colab": {
          "base_uri": "https://localhost:8080/",
          "height": 554
        },
        "id": "2eBtqij-naqf",
        "outputId": "eb190f32-0766-4df5-8251-81463e86f259"
      },
      "execution_count": 13,
      "outputs": [
        {
          "output_type": "execute_result",
          "data": {
            "text/plain": [
              "age                   74\n",
              "workclass              9\n",
              "fnlwgt             28523\n",
              "education             16\n",
              "educational-num       16\n",
              "marital-status         7\n",
              "occupation            15\n",
              "relationship           6\n",
              "race                   5\n",
              "gender                 2\n",
              "capital-gain         123\n",
              "capital-loss          99\n",
              "hours-per-week        96\n",
              "native-country        42\n",
              "income                 2\n",
              "dtype: int64"
            ],
            "text/html": [
              "<div>\n",
              "<style scoped>\n",
              "    .dataframe tbody tr th:only-of-type {\n",
              "        vertical-align: middle;\n",
              "    }\n",
              "\n",
              "    .dataframe tbody tr th {\n",
              "        vertical-align: top;\n",
              "    }\n",
              "\n",
              "    .dataframe thead th {\n",
              "        text-align: right;\n",
              "    }\n",
              "</style>\n",
              "<table border=\"1\" class=\"dataframe\">\n",
              "  <thead>\n",
              "    <tr style=\"text-align: right;\">\n",
              "      <th></th>\n",
              "      <th>0</th>\n",
              "    </tr>\n",
              "  </thead>\n",
              "  <tbody>\n",
              "    <tr>\n",
              "      <th>age</th>\n",
              "      <td>74</td>\n",
              "    </tr>\n",
              "    <tr>\n",
              "      <th>workclass</th>\n",
              "      <td>9</td>\n",
              "    </tr>\n",
              "    <tr>\n",
              "      <th>fnlwgt</th>\n",
              "      <td>28523</td>\n",
              "    </tr>\n",
              "    <tr>\n",
              "      <th>education</th>\n",
              "      <td>16</td>\n",
              "    </tr>\n",
              "    <tr>\n",
              "      <th>educational-num</th>\n",
              "      <td>16</td>\n",
              "    </tr>\n",
              "    <tr>\n",
              "      <th>marital-status</th>\n",
              "      <td>7</td>\n",
              "    </tr>\n",
              "    <tr>\n",
              "      <th>occupation</th>\n",
              "      <td>15</td>\n",
              "    </tr>\n",
              "    <tr>\n",
              "      <th>relationship</th>\n",
              "      <td>6</td>\n",
              "    </tr>\n",
              "    <tr>\n",
              "      <th>race</th>\n",
              "      <td>5</td>\n",
              "    </tr>\n",
              "    <tr>\n",
              "      <th>gender</th>\n",
              "      <td>2</td>\n",
              "    </tr>\n",
              "    <tr>\n",
              "      <th>capital-gain</th>\n",
              "      <td>123</td>\n",
              "    </tr>\n",
              "    <tr>\n",
              "      <th>capital-loss</th>\n",
              "      <td>99</td>\n",
              "    </tr>\n",
              "    <tr>\n",
              "      <th>hours-per-week</th>\n",
              "      <td>96</td>\n",
              "    </tr>\n",
              "    <tr>\n",
              "      <th>native-country</th>\n",
              "      <td>42</td>\n",
              "    </tr>\n",
              "    <tr>\n",
              "      <th>income</th>\n",
              "      <td>2</td>\n",
              "    </tr>\n",
              "  </tbody>\n",
              "</table>\n",
              "</div><br><label><b>dtype:</b> int64</label>"
            ]
          },
          "metadata": {},
          "execution_count": 13
        }
      ]
    },
    {
      "cell_type": "code",
      "source": [
        "for col in df.columns:\n",
        "    print(f\"Unique values in column '{col}':\")\n",
        "    print(df[col].unique())\n",
        "    print(\"-\" * 20)\n"
      ],
      "metadata": {
        "colab": {
          "base_uri": "https://localhost:8080/"
        },
        "id": "dyEFvxShnkRP",
        "outputId": "877b1647-090c-49d3-bdfd-d4d3fd65d5dc"
      },
      "execution_count": 14,
      "outputs": [
        {
          "output_type": "stream",
          "name": "stdout",
          "text": [
            "Unique values in column 'age':\n",
            "[25 38 28 44 18 34 29 63 24 55 65 36 26 58 48 43 20 37 40 72 45 22 23 54\n",
            " 32 46 56 17 39 52 21 42 33 30 47 41 19 69 50 31 59 49 51 27 57 61 64 79\n",
            " 73 53 77 80 62 35 68 66 75 60 67 71 70 90 81 74 78 82 83 85 76 84 89 88\n",
            " 87 86]\n",
            "--------------------\n",
            "Unique values in column 'workclass':\n",
            "['Private' 'Local-gov' '?' 'Self-emp-not-inc' 'Federal-gov' 'State-gov'\n",
            " 'Self-emp-inc' 'Without-pay' 'Never-worked']\n",
            "--------------------\n",
            "Unique values in column 'fnlwgt':\n",
            "[226802  89814 336951 ... 129912 255835 257302]\n",
            "--------------------\n",
            "Unique values in column 'education':\n",
            "['11th' 'HS-grad' 'Assoc-acdm' 'Some-college' '10th' 'Prof-school'\n",
            " '7th-8th' 'Bachelors' 'Masters' 'Doctorate' '5th-6th' 'Assoc-voc' '9th'\n",
            " '12th' '1st-4th' 'Preschool']\n",
            "--------------------\n",
            "Unique values in column 'educational-num':\n",
            "[ 7  9 12 10  6 15  4 13 14 16  3 11  5  8  2  1]\n",
            "--------------------\n",
            "Unique values in column 'marital-status':\n",
            "['Never-married' 'Married-civ-spouse' 'Widowed' 'Divorced' 'Separated'\n",
            " 'Married-spouse-absent' 'Married-AF-spouse']\n",
            "--------------------\n",
            "Unique values in column 'occupation':\n",
            "['Machine-op-inspct' 'Farming-fishing' 'Protective-serv' '?'\n",
            " 'Other-service' 'Prof-specialty' 'Craft-repair' 'Adm-clerical'\n",
            " 'Exec-managerial' 'Tech-support' 'Sales' 'Priv-house-serv'\n",
            " 'Transport-moving' 'Handlers-cleaners' 'Armed-Forces']\n",
            "--------------------\n",
            "Unique values in column 'relationship':\n",
            "['Own-child' 'Husband' 'Not-in-family' 'Unmarried' 'Wife' 'Other-relative']\n",
            "--------------------\n",
            "Unique values in column 'race':\n",
            "['Black' 'White' 'Asian-Pac-Islander' 'Other' 'Amer-Indian-Eskimo']\n",
            "--------------------\n",
            "Unique values in column 'gender':\n",
            "['Male' 'Female']\n",
            "--------------------\n",
            "Unique values in column 'capital-gain':\n",
            "[    0  7688  3103  6418  7298  3908 14084  5178 15024 99999  2597  2907\n",
            "  4650  6497  1055  5013 27828  4934  4064  3674  2174 10605  3418   114\n",
            "  2580  3411  4508  4386  8614 13550  6849  2463  3137  2885  2964  1471\n",
            " 10566  2354  1424  1455  3325  4416 25236   594  2105  4787  2829   401\n",
            "  4865  1264  1506 10520  3464  2653 20051  4101  1797  2407  3471  1086\n",
            "  1848 14344  1151  2993  2290 15020  9386  2202  3818  2176  5455 11678\n",
            "  7978  7262  6514 41310  3456  7430  2414  2062 34095  1831  6723  5060\n",
            " 15831  2977  2346  3273  2329  9562  2635  4931  1731  6097   914  7896\n",
            "  5556  1409  3781  3942  2538  3887 25124  7443  5721  1173  4687  6612\n",
            "  6767  2961   991  2036  2936  2050  1111  2228 22040  3432  6360  2009\n",
            "  1639 18481  2387]\n",
            "--------------------\n",
            "Unique values in column 'capital-loss':\n",
            "[   0 1721 1876 2415 1887  625 1977 2057 1429 1590 1485 2051 2377 1672\n",
            " 1628 1902 1602 1741 2444 1408 2001 2042 1740 1825 1848 1719 3004 2179\n",
            " 1573 2205 1258 2339 1726 2258 1340 1504 2559 1668 1974 1980 1564 2547\n",
            " 2002 1669 1617  323 3175 2472 2174 1579 2129 1510 1735 2282 1870 1411\n",
            " 1911 1651 1092 1762 2457 2231 2238  653 1138 2246 2603 2392 1944 1380\n",
            " 2465 1421 3770 1594  213 2149 2824 1844 2467 2163 1816 1648 2206 2352\n",
            "  419 1539  880  810  974 4356 2489 1755 3683 2267 2080  155 3900 2201\n",
            " 2754]\n",
            "--------------------\n",
            "Unique values in column 'hours-per-week':\n",
            "[40 50 30 32 10 39 35 48 25 20 45 47  6 43 90 54 60 38 36 18 24 44 56 28\n",
            " 16 41 22 55 14 33 37  8 12 70 15 75 52 84 42 80 68 99 65  5 17 72 53 29\n",
            " 96 21 46  3  1 23 49 67 76  7  2 58 26 34  4 51 78 63 31 92 77 27 85 13\n",
            " 19 98 62 66 57 11 86 59  9 64 73 61 88 79 89 74 69 87 97 94 82 91 81 95]\n",
            "--------------------\n",
            "Unique values in column 'native-country':\n",
            "['United-States' '?' 'Peru' 'Guatemala' 'Mexico' 'Dominican-Republic'\n",
            " 'Ireland' 'Germany' 'Philippines' 'Thailand' 'Haiti' 'El-Salvador'\n",
            " 'Puerto-Rico' 'Vietnam' 'South' 'Columbia' 'Japan' 'India' 'Cambodia'\n",
            " 'Poland' 'Laos' 'England' 'Cuba' 'Taiwan' 'Italy' 'Canada' 'Portugal'\n",
            " 'China' 'Nicaragua' 'Honduras' 'Iran' 'Scotland' 'Jamaica' 'Ecuador'\n",
            " 'Yugoslavia' 'Hungary' 'Hong' 'Greece' 'Trinadad&Tobago'\n",
            " 'Outlying-US(Guam-USVI-etc)' 'France' 'Holand-Netherlands']\n",
            "--------------------\n",
            "Unique values in column 'income':\n",
            "['<=50K' '>50K']\n",
            "--------------------\n"
          ]
        }
      ]
    },
    {
      "cell_type": "code",
      "source": [
        "numeric_columns = df.select_dtypes(include=['int64', 'float64']).columns\n",
        "\n",
        "df[numeric_columns] = df[numeric_columns].astype(float)"
      ],
      "metadata": {
        "id": "iX-7062QrVrn"
      },
      "execution_count": 15,
      "outputs": []
    },
    {
      "cell_type": "code",
      "source": [
        "df.replace(\"?\", np.nan, inplace=True)\n"
      ],
      "metadata": {
        "id": "EFL0j4R7qGJH"
      },
      "execution_count": 16,
      "outputs": []
    },
    {
      "cell_type": "markdown",
      "source": [
        "### Missing Values\n",
        "Checking for missing values:"
      ],
      "metadata": {
        "id": "uo-8W8XEr4yf"
      }
    },
    {
      "cell_type": "code",
      "source": [
        "df.isna().sum()"
      ],
      "metadata": {
        "colab": {
          "base_uri": "https://localhost:8080/",
          "height": 554
        },
        "id": "oI08L0yTrYjv",
        "outputId": "7b78f468-b793-4826-b1f4-59d7877a35c2"
      },
      "execution_count": 17,
      "outputs": [
        {
          "output_type": "execute_result",
          "data": {
            "text/plain": [
              "age                   0\n",
              "workclass          2795\n",
              "fnlwgt                0\n",
              "education             0\n",
              "educational-num       0\n",
              "marital-status        0\n",
              "occupation         2805\n",
              "relationship          0\n",
              "race                  0\n",
              "gender                0\n",
              "capital-gain          0\n",
              "capital-loss          0\n",
              "hours-per-week        0\n",
              "native-country      856\n",
              "income                0\n",
              "dtype: int64"
            ],
            "text/html": [
              "<div>\n",
              "<style scoped>\n",
              "    .dataframe tbody tr th:only-of-type {\n",
              "        vertical-align: middle;\n",
              "    }\n",
              "\n",
              "    .dataframe tbody tr th {\n",
              "        vertical-align: top;\n",
              "    }\n",
              "\n",
              "    .dataframe thead th {\n",
              "        text-align: right;\n",
              "    }\n",
              "</style>\n",
              "<table border=\"1\" class=\"dataframe\">\n",
              "  <thead>\n",
              "    <tr style=\"text-align: right;\">\n",
              "      <th></th>\n",
              "      <th>0</th>\n",
              "    </tr>\n",
              "  </thead>\n",
              "  <tbody>\n",
              "    <tr>\n",
              "      <th>age</th>\n",
              "      <td>0</td>\n",
              "    </tr>\n",
              "    <tr>\n",
              "      <th>workclass</th>\n",
              "      <td>2795</td>\n",
              "    </tr>\n",
              "    <tr>\n",
              "      <th>fnlwgt</th>\n",
              "      <td>0</td>\n",
              "    </tr>\n",
              "    <tr>\n",
              "      <th>education</th>\n",
              "      <td>0</td>\n",
              "    </tr>\n",
              "    <tr>\n",
              "      <th>educational-num</th>\n",
              "      <td>0</td>\n",
              "    </tr>\n",
              "    <tr>\n",
              "      <th>marital-status</th>\n",
              "      <td>0</td>\n",
              "    </tr>\n",
              "    <tr>\n",
              "      <th>occupation</th>\n",
              "      <td>2805</td>\n",
              "    </tr>\n",
              "    <tr>\n",
              "      <th>relationship</th>\n",
              "      <td>0</td>\n",
              "    </tr>\n",
              "    <tr>\n",
              "      <th>race</th>\n",
              "      <td>0</td>\n",
              "    </tr>\n",
              "    <tr>\n",
              "      <th>gender</th>\n",
              "      <td>0</td>\n",
              "    </tr>\n",
              "    <tr>\n",
              "      <th>capital-gain</th>\n",
              "      <td>0</td>\n",
              "    </tr>\n",
              "    <tr>\n",
              "      <th>capital-loss</th>\n",
              "      <td>0</td>\n",
              "    </tr>\n",
              "    <tr>\n",
              "      <th>hours-per-week</th>\n",
              "      <td>0</td>\n",
              "    </tr>\n",
              "    <tr>\n",
              "      <th>native-country</th>\n",
              "      <td>856</td>\n",
              "    </tr>\n",
              "    <tr>\n",
              "      <th>income</th>\n",
              "      <td>0</td>\n",
              "    </tr>\n",
              "  </tbody>\n",
              "</table>\n",
              "</div><br><label><b>dtype:</b> int64</label>"
            ]
          },
          "metadata": {},
          "execution_count": 17
        }
      ]
    },
    {
      "cell_type": "code",
      "source": [
        "non_useful_columns_for_used_algorithms = ['fnlwgt', 'education']\n",
        "df_1 = df.copy()\n",
        "df_1.drop(non_useful_columns_for_used_algorithms, axis=1, inplace=True)\n",
        "\n",
        "df_1.info()\n"
      ],
      "metadata": {
        "colab": {
          "base_uri": "https://localhost:8080/"
        },
        "id": "UExGHk_XsYBn",
        "outputId": "24450a21-1206-4d7b-9fde-1227ae7845ef"
      },
      "execution_count": 18,
      "outputs": [
        {
          "output_type": "stream",
          "name": "stdout",
          "text": [
            "<class 'pandas.core.frame.DataFrame'>\n",
            "Index: 48790 entries, 0 to 48841\n",
            "Data columns (total 13 columns):\n",
            " #   Column           Non-Null Count  Dtype  \n",
            "---  ------           --------------  -----  \n",
            " 0   age              48790 non-null  float64\n",
            " 1   workclass        45995 non-null  object \n",
            " 2   educational-num  48790 non-null  float64\n",
            " 3   marital-status   48790 non-null  object \n",
            " 4   occupation       45985 non-null  object \n",
            " 5   relationship     48790 non-null  object \n",
            " 6   race             48790 non-null  object \n",
            " 7   gender           48790 non-null  object \n",
            " 8   capital-gain     48790 non-null  float64\n",
            " 9   capital-loss     48790 non-null  float64\n",
            " 10  hours-per-week   48790 non-null  float64\n",
            " 11  native-country   47934 non-null  object \n",
            " 12  income           48790 non-null  object \n",
            "dtypes: float64(5), object(8)\n",
            "memory usage: 5.2+ MB\n"
          ]
        }
      ]
    },
    {
      "cell_type": "code",
      "source": [
        "df_1.shape\n"
      ],
      "metadata": {
        "colab": {
          "base_uri": "https://localhost:8080/"
        },
        "id": "jO4yxY2ssdZG",
        "outputId": "03726f1d-7a25-410a-9064-43c07deaff3b"
      },
      "execution_count": 19,
      "outputs": [
        {
          "output_type": "execute_result",
          "data": {
            "text/plain": [
              "(48790, 13)"
            ]
          },
          "metadata": {},
          "execution_count": 19
        }
      ]
    },
    {
      "cell_type": "code",
      "source": [
        "df_1.duplicated().sum()\n"
      ],
      "metadata": {
        "colab": {
          "base_uri": "https://localhost:8080/"
        },
        "id": "fqP-5zFLsgMP",
        "outputId": "b1d217ee-92eb-4f98-afd8-e1f9b3321a90"
      },
      "execution_count": 20,
      "outputs": [
        {
          "output_type": "execute_result",
          "data": {
            "text/plain": [
              "np.int64(6322)"
            ]
          },
          "metadata": {},
          "execution_count": 20
        }
      ]
    },
    {
      "cell_type": "code",
      "source": [
        "df_1.drop_duplicates(inplace=True)\n"
      ],
      "metadata": {
        "id": "K6H01UjJsijP"
      },
      "execution_count": 21,
      "outputs": []
    },
    {
      "cell_type": "code",
      "source": [
        "df_1.isna().sum()"
      ],
      "metadata": {
        "colab": {
          "base_uri": "https://localhost:8080/",
          "height": 492
        },
        "id": "cyESNRSUsl5v",
        "outputId": "d07b4d74-3255-4f85-ee55-b01784f473a0"
      },
      "execution_count": 22,
      "outputs": [
        {
          "output_type": "execute_result",
          "data": {
            "text/plain": [
              "age                   0\n",
              "workclass          2411\n",
              "educational-num       0\n",
              "marital-status        0\n",
              "occupation         2421\n",
              "relationship          0\n",
              "race                  0\n",
              "gender                0\n",
              "capital-gain          0\n",
              "capital-loss          0\n",
              "hours-per-week        0\n",
              "native-country      853\n",
              "income                0\n",
              "dtype: int64"
            ],
            "text/html": [
              "<div>\n",
              "<style scoped>\n",
              "    .dataframe tbody tr th:only-of-type {\n",
              "        vertical-align: middle;\n",
              "    }\n",
              "\n",
              "    .dataframe tbody tr th {\n",
              "        vertical-align: top;\n",
              "    }\n",
              "\n",
              "    .dataframe thead th {\n",
              "        text-align: right;\n",
              "    }\n",
              "</style>\n",
              "<table border=\"1\" class=\"dataframe\">\n",
              "  <thead>\n",
              "    <tr style=\"text-align: right;\">\n",
              "      <th></th>\n",
              "      <th>0</th>\n",
              "    </tr>\n",
              "  </thead>\n",
              "  <tbody>\n",
              "    <tr>\n",
              "      <th>age</th>\n",
              "      <td>0</td>\n",
              "    </tr>\n",
              "    <tr>\n",
              "      <th>workclass</th>\n",
              "      <td>2411</td>\n",
              "    </tr>\n",
              "    <tr>\n",
              "      <th>educational-num</th>\n",
              "      <td>0</td>\n",
              "    </tr>\n",
              "    <tr>\n",
              "      <th>marital-status</th>\n",
              "      <td>0</td>\n",
              "    </tr>\n",
              "    <tr>\n",
              "      <th>occupation</th>\n",
              "      <td>2421</td>\n",
              "    </tr>\n",
              "    <tr>\n",
              "      <th>relationship</th>\n",
              "      <td>0</td>\n",
              "    </tr>\n",
              "    <tr>\n",
              "      <th>race</th>\n",
              "      <td>0</td>\n",
              "    </tr>\n",
              "    <tr>\n",
              "      <th>gender</th>\n",
              "      <td>0</td>\n",
              "    </tr>\n",
              "    <tr>\n",
              "      <th>capital-gain</th>\n",
              "      <td>0</td>\n",
              "    </tr>\n",
              "    <tr>\n",
              "      <th>capital-loss</th>\n",
              "      <td>0</td>\n",
              "    </tr>\n",
              "    <tr>\n",
              "      <th>hours-per-week</th>\n",
              "      <td>0</td>\n",
              "    </tr>\n",
              "    <tr>\n",
              "      <th>native-country</th>\n",
              "      <td>853</td>\n",
              "    </tr>\n",
              "    <tr>\n",
              "      <th>income</th>\n",
              "      <td>0</td>\n",
              "    </tr>\n",
              "  </tbody>\n",
              "</table>\n",
              "</div><br><label><b>dtype:</b> int64</label>"
            ]
          },
          "metadata": {},
          "execution_count": 22
        }
      ]
    },
    {
      "cell_type": "markdown",
      "source": [
        " check the class balance of the dataset before building any model.\n"
      ],
      "metadata": {
        "id": "Jy-pEQyAzvtG"
      }
    },
    {
      "cell_type": "code",
      "source": [
        "df['income'].value_counts(normalize=True)\n"
      ],
      "metadata": {
        "colab": {
          "base_uri": "https://localhost:8080/",
          "height": 178
        },
        "id": "J9VW4_arzhJn",
        "outputId": "570c1aca-bb9a-4ffb-ab58-fc03d27cad4c"
      },
      "execution_count": 23,
      "outputs": [
        {
          "output_type": "execute_result",
          "data": {
            "text/plain": [
              "income\n",
              "<=50K    0.760586\n",
              ">50K     0.239414\n",
              "Name: proportion, dtype: float64"
            ],
            "text/html": [
              "<div>\n",
              "<style scoped>\n",
              "    .dataframe tbody tr th:only-of-type {\n",
              "        vertical-align: middle;\n",
              "    }\n",
              "\n",
              "    .dataframe tbody tr th {\n",
              "        vertical-align: top;\n",
              "    }\n",
              "\n",
              "    .dataframe thead th {\n",
              "        text-align: right;\n",
              "    }\n",
              "</style>\n",
              "<table border=\"1\" class=\"dataframe\">\n",
              "  <thead>\n",
              "    <tr style=\"text-align: right;\">\n",
              "      <th></th>\n",
              "      <th>proportion</th>\n",
              "    </tr>\n",
              "    <tr>\n",
              "      <th>income</th>\n",
              "      <th></th>\n",
              "    </tr>\n",
              "  </thead>\n",
              "  <tbody>\n",
              "    <tr>\n",
              "      <th>&lt;=50K</th>\n",
              "      <td>0.760586</td>\n",
              "    </tr>\n",
              "    <tr>\n",
              "      <th>&gt;50K</th>\n",
              "      <td>0.239414</td>\n",
              "    </tr>\n",
              "  </tbody>\n",
              "</table>\n",
              "</div><br><label><b>dtype:</b> float64</label>"
            ]
          },
          "metadata": {},
          "execution_count": 23
        }
      ]
    },
    {
      "cell_type": "markdown",
      "source": [
        "- The data is imbalanced"
      ],
      "metadata": {
        "id": "qj-sCg2Nz49O"
      }
    },
    {
      "cell_type": "markdown",
      "source": [
        "## (Exploratory Visualizations)\n"
      ],
      "metadata": {
        "id": "xp_HP0M2bM1U"
      }
    },
    {
      "cell_type": "markdown",
      "source": [
        "###  Income Distribution\n"
      ],
      "metadata": {
        "id": "eRwp2RIhtxCb"
      }
    },
    {
      "cell_type": "code",
      "source": [
        "# Distribution of income\n",
        "plt.figure(figsize=(6, 4))\n",
        "sns.countplot(x=df[\"income\"])\n",
        "plt.title(\"Income Distribution\")\n",
        "plt.xlabel(\"Income\")\n",
        "plt.ylabel(\"Count\")\n",
        "plt.show()\n",
        "\n",
        "\n",
        "\n"
      ],
      "metadata": {
        "colab": {
          "base_uri": "https://localhost:8080/",
          "height": 410
        },
        "id": "hbVGWFSMbOq7",
        "outputId": "6d0fe5f0-36ce-49a9-d792-6d65b7bff5b4"
      },
      "execution_count": 24,
      "outputs": [
        {
          "output_type": "display_data",
          "data": {
            "text/plain": [
              "<Figure size 600x400 with 1 Axes>"
            ],
            "image/png": "[encoded data removed]"
          },
          "metadata": {}
        }
      ]
    },
    {
      "cell_type": "markdown",
      "source": [
        "- This plot shows the distribution of individuals based on their income levels.  \n",
        "It helps us understand the class balance between `<=50K` and `>50K` income groups, which is essential for model evaluation and handling class imbalance.\n"
      ],
      "metadata": {
        "id": "HwJxSGXUt2q6"
      }
    },
    {
      "cell_type": "markdown",
      "source": [
        "### Education Level vs Income"
      ],
      "metadata": {
        "id": "bCD-gYngt9wK"
      }
    },
    {
      "cell_type": "code",
      "source": [
        "# Education vs Income\n",
        "plt.figure(figsize=(12, 7))\n",
        "sns.countplot(y=\"education\", hue=\"income\", data=df, order=df[\"education\"].value_counts().index)\n",
        "plt.title(\"Education Level vs Income\")\n",
        "plt.xlabel(\"Count\")\n",
        "plt.ylabel(\"Education Level\")\n",
        "plt.show()\n"
      ],
      "metadata": {
        "colab": {
          "base_uri": "https://localhost:8080/",
          "height": 564
        },
        "id": "nCnQ9UgibmUy",
        "outputId": "f9d77c0d-02c9-4575-c8d2-79508eac2e22"
      },
      "execution_count": 25,
      "outputs": [
        {
          "output_type": "display_data",
          "data": {
            "text/plain": [
              "<Figure size 1200x700 with 1 Axes>"
            ],
            "image/png": "[encoded data removed]"
          },
          "metadata": {}
        }
      ]
    },
    {
      "cell_type": "markdown",
      "source": [
        "- This plot compares income distribution (`<=50K` vs `>50K`) across various education levels.  \n",
        "It clearly shows that individuals with higher education levels (such as Bachelors, Masters, and Doctorate) are more likely to earn over $50K annually.  \n",
        "In contrast, those with lower education levels tend to fall in the `<=50K` income group.\n",
        "\n",
        "\n"
      ],
      "metadata": {
        "id": "KBy_aQpGuQnT"
      }
    },
    {
      "cell_type": "markdown",
      "source": [
        "###  Gender vs Income\n"
      ],
      "metadata": {
        "id": "TjLGBr3UuXBK"
      }
    },
    {
      "cell_type": "code",
      "source": [
        "# Gender vs Income\n",
        "plt.figure(figsize=(7, 5))\n",
        "sns.countplot(x=\"gender\", hue=\"income\", data=df)\n",
        "plt.title(\"Gender vs Income\")\n",
        "plt.xlabel(\"Gender\")\n",
        "plt.ylabel(\"Count\")\n",
        "plt.show()\n"
      ],
      "metadata": {
        "colab": {
          "base_uri": "https://localhost:8080/",
          "height": 487
        },
        "id": "rfywhEGIbrJ7",
        "outputId": "09c5f671-695b-4297-f0cd-5d5b555e7237"
      },
      "execution_count": 26,
      "outputs": [
        {
          "output_type": "display_data",
          "data": {
            "text/plain": [
              "<Figure size 700x500 with 1 Axes>"
            ],
            "image/png": "[encoded data removed]"
          },
          "metadata": {}
        }
      ]
    },
    {
      "cell_type": "markdown",
      "source": [
        "This plot displays the distribution of income levels (`<=50K` vs `>50K`) for both genders.  \n",
        "It reveals a noticeable gender gap in income: **males are significantly more likely to earn >$50K** compared to females.  \n",
        "\n"
      ],
      "metadata": {
        "id": "NnYyesrBuYx7"
      }
    },
    {
      "cell_type": "markdown",
      "source": [
        "### Age Distribution by Income\n"
      ],
      "metadata": {
        "id": "DiE3_lbxul1a"
      }
    },
    {
      "cell_type": "code",
      "source": [
        "# Age distribution by income\n",
        "plt.figure(figsize=(10, 6))\n",
        "sns.histplot(data=df, x=\"age\", hue=\"income\", kde=True)\n",
        "plt.title(\"Age Distribution by Income\")\n",
        "plt.xlabel(\"Age\")\n",
        "plt.ylabel(\"Count\")\n",
        "plt.show()\n"
      ],
      "metadata": {
        "colab": {
          "base_uri": "https://localhost:8080/",
          "height": 564
        },
        "id": "_ARRvaFxbu4L",
        "outputId": "1cf8e7ad-5c99-4e98-8ec0-f051703b2a77"
      },
      "execution_count": 27,
      "outputs": [
        {
          "output_type": "display_data",
          "data": {
            "text/plain": [
              "<Figure size 1000x600 with 1 Axes>"
            ],
            "image/png": "[encoded data removed]"
          },
          "metadata": {}
        }
      ]
    },
    {
      "cell_type": "markdown",
      "source": [
        "This plot shows the age distribution for individuals grouped by income level (`<=50K` vs `>50K`).  \n",
        "Using a histogram with KDE (Kernel Density Estimate), we can observe age trends for both income groups.\n",
        "\n",
        "- Younger individuals (under 30) are more likely to earn <=$50K.\n",
        "- The probability of earning >$50K increases with age, especially between ages 30 and 50.\n",
        "- After age 60, the number of high earners drops in both groups.\n"
      ],
      "metadata": {
        "id": "_hu-Jm4zu6Iy"
      }
    },
    {
      "cell_type": "markdown",
      "source": [
        "#  Building the Classification Model\n"
      ],
      "metadata": {
        "id": "ZI61W5ddvPz6"
      }
    },
    {
      "cell_type": "markdown",
      "source": [
        "###  Encoding Income Column\n",
        "To prepare the target variable for machine learning algorithms, we convert the categorical `income` column into numerical format:\n",
        "\n",
        "- `<=50K` → 0  \n",
        "- `>50K` → 1  \n",
        "\n",
        "This binary encoding is essential for classification models to interpret the target properly.\n",
        "\n"
      ],
      "metadata": {
        "id": "ZKhNMsAcu_4r"
      }
    },
    {
      "cell_type": "code",
      "source": [
        "df_1['income'] = df_1['income'].map({'<=50K': 0, '>50K': 1})\n"
      ],
      "metadata": {
        "id": "0hwmLmdy7qJW"
      },
      "execution_count": 28,
      "outputs": []
    },
    {
      "cell_type": "code",
      "source": [
        "X = df_1.drop(columns=['income'])\n",
        "y = df_1['income']\n",
        "\n",
        "X_train, X_test, y_train, y_test = train_test_split(\n",
        "    X, y, test_size=0.2, stratify=y, random_state=42\n",
        ")\n"
      ],
      "metadata": {
        "id": "SXGRwQXf9za-"
      },
      "execution_count": 29,
      "outputs": []
    },
    {
      "cell_type": "code",
      "source": [
        "numeric_cols = X.select_dtypes(include=['int64', 'float64']).columns.tolist()\n",
        "categorical_cols = X.select_dtypes(include=['object']).columns.tolist()\n",
        "\n",
        "print(\"Numeric columns:\", numeric_cols)\n",
        "print(\"Categorical columns:\", categorical_cols)\n",
        "\n"
      ],
      "metadata": {
        "colab": {
          "base_uri": "https://localhost:8080/"
        },
        "id": "ycVOxd0q-Rhe",
        "outputId": "cdf7faab-a8eb-4fb3-e86d-8b2d5b257b6c"
      },
      "execution_count": 30,
      "outputs": [
        {
          "output_type": "stream",
          "name": "stdout",
          "text": [
            "Numeric columns: ['age', 'educational-num', 'capital-gain', 'capital-loss', 'hours-per-week']\n",
            "Categorical columns: ['workclass', 'marital-status', 'occupation', 'relationship', 'race', 'gender', 'native-country']\n"
          ]
        }
      ]
    },
    {
      "cell_type": "code",
      "source": [
        "from sklearn.impute import SimpleImputer\n",
        "\n",
        "workclass_imputer = SimpleImputer(strategy='most_frequent')\n",
        "X_train['workclass'] = workclass_imputer.fit_transform(X_train[['workclass']])\n",
        "X_test['workclass'] = workclass_imputer.transform(X_test[['workclass']])\n",
        "\n",
        "occ_imputer = GroupByImputer(group_col='workclass', target_col='occupation')\n",
        "X_train['occupation'] = occ_imputer.fit_transform(X_train)\n",
        "X_test['occupation'] = occ_imputer.transform(X_test)\n",
        "\n",
        "country_imputer = SimpleImputer(strategy='most_frequent')\n",
        "X_train['native-country'] = country_imputer.fit_transform(X_train[['native-country']])\n",
        "X_test['native-country'] = country_imputer.transform(X_test[['native-country']])\n",
        "\n",
        "\n"
      ],
      "metadata": {
        "id": "syX-Rz1b9Yil"
      },
      "execution_count": 31,
      "outputs": []
    },
    {
      "cell_type": "code",
      "source": [
        "numeric_cols = ['age', 'educational-num', 'capital-gain', 'capital-loss', 'hours-per-week']\n",
        "categorical_cols = ['marital-status', 'relationship', 'race', 'gender', 'workclass', 'occupation', 'native-country']\n"
      ],
      "metadata": {
        "id": "vDRZl9fQCTku"
      },
      "execution_count": 32,
      "outputs": []
    },
    {
      "cell_type": "code",
      "source": [
        "from sklearn.preprocessing import StandardScaler, OneHotEncoder\n",
        "from sklearn.compose import ColumnTransformer\n",
        "\n",
        "def create_preprocessor(use_drop_first=False):\n",
        "    drop_value = 'first' if use_drop_first else None\n",
        "\n",
        "    preprocessor = ColumnTransformer([\n",
        "        ('num', StandardScaler(), numeric_cols),\n",
        "        ('cat', OneHotEncoder(handle_unknown='ignore', sparse_output=False, drop=drop_value), categorical_cols)\n",
        "    ])\n",
        "\n",
        "    return preprocessor\n",
        "\n"
      ],
      "metadata": {
        "id": "wGtjjzgFCV9d"
      },
      "execution_count": 33,
      "outputs": []
    },
    {
      "cell_type": "code",
      "source": [
        "preprocessor = create_preprocessor(use_drop_first=False)\n",
        "\n",
        "X_train_prep = preprocessor.fit_transform(X_train)\n",
        "X_test_prep = preprocessor.transform(X_test)\n",
        "\n",
        "# Get column names\n",
        "encoded_cols = preprocessor.named_transformers_['cat'].get_feature_names_out(categorical_cols)\n",
        "all_feature_names = list(numeric_cols) + list(encoded_cols)\n",
        "\n",
        "smote = SMOTE(random_state=42)\n",
        "X_train_res, y_train_res = smote.fit_resample(X_train_prep, y_train)\n",
        "\n",
        "rf = RandomForestClassifier(random_state=42)\n",
        "rf.fit(X_train_res, y_train_res)\n",
        "evaluate_classification(rf, X_train_res, y_train_res, X_test_prep, y_test)\n",
        "\n"
      ],
      "metadata": {
        "colab": {
          "base_uri": "https://localhost:8080/",
          "height": 1000
        },
        "id": "H4i-IYDNRlKW",
        "outputId": "a4f24c22-637f-408c-a6cb-15687ed743d9"
      },
      "execution_count": 34,
      "outputs": [
        {
          "output_type": "stream",
          "name": "stdout",
          "text": [
            "----------------------------------------------------------------------\n",
            " Classification Metrics: Training Data\n",
            "----------------------------------------------------------------------\n",
            "              precision    recall  f1-score   support\n",
            "\n",
            "           0       0.99      0.98      0.99     25616\n",
            "           1       0.98      0.99      0.99     25616\n",
            "\n",
            "    accuracy                           0.99     51232\n",
            "   macro avg       0.99      0.99      0.99     51232\n",
            "weighted avg       0.99      0.99      0.99     51232\n",
            "\n"
          ]
        },
        {
          "output_type": "display_data",
          "data": {
            "text/plain": [
              "<Figure size 600x400 with 2 Axes>"
            ],
            "image/png": "[encoded data removed]"
          },
          "metadata": {}
        },
        {
          "output_type": "stream",
          "name": "stdout",
          "text": [
            "\n",
            "----------------------------------------------------------------------\n",
            " Classification Metrics: Test Data\n",
            "----------------------------------------------------------------------\n",
            "              precision    recall  f1-score   support\n",
            "\n",
            "           0       0.88      0.88      0.88      6404\n",
            "           1       0.63      0.64      0.64      2090\n",
            "\n",
            "    accuracy                           0.82      8494\n",
            "   macro avg       0.76      0.76      0.76      8494\n",
            "weighted avg       0.82      0.82      0.82      8494\n",
            "\n"
          ]
        },
        {
          "output_type": "display_data",
          "data": {
            "text/plain": [
              "<Figure size 600x400 with 2 Axes>"
            ],
            "image/png": "[encoded data removed]"
          },
          "metadata": {}
        }
      ]
    },
    {
      "cell_type": "markdown",
      "source": [
        "- We trained a Random Forest Classifier to predict income levels.  \n",
        "While it achieved **high accuracy on the training set**, the performance on the test set was significantly lower — a clear sign of **overfitting**.\n"
      ],
      "metadata": {
        "id": "-SkIBoZGwT4C"
      }
    },
    {
      "cell_type": "markdown",
      "source": [
        "# Feature Importance Analysis using Permutation Importance\n",
        "\n",
        "After training the Random Forest model, we calculated feature importances using Permutation Importance. This method measures how much the model's performance decreases when the values of a feature are randomly shuffled. Features that cause the biggest drop in performance are considered most important.\n",
        "\n",
        "The plot below shows the top 10 most important features.\n"
      ],
      "metadata": {
        "id": "AuzicNvZyqk6"
      }
    },
    {
      "cell_type": "code",
      "source": [
        "# Calculate Permutation Importance on X_test_prep\n",
        "result = permutation_importance(\n",
        "    rf, X_test_prep, y_test,\n",
        "    n_repeats=10, random_state=42, n_jobs=-1\n",
        ")\n",
        "\n",
        "# Sorting results in a DataFrame\n",
        "importances = pd.Series(result.importances_mean, index=all_feature_names).sort_values(ascending=False)\n",
        "\n",
        "# Draw the most important features (top 10)\n",
        "import seaborn as sns\n",
        "plt.figure(figsize=(10, 6))\n",
        "sns.barplot(x=importances[:10], y=importances[:10].index, palette=\"viridis\")\n",
        "plt.title(\"Top 10 Permutation Importances (Random Forest)\")\n",
        "plt.xlabel(\"Mean Importance Decrease\")\n",
        "plt.ylabel(\"Feature\")\n",
        "plt.tight_layout()\n",
        "plt.show()\n"
      ],
      "metadata": {
        "colab": {
          "base_uri": "https://localhost:8080/",
          "height": 685
        },
        "id": "85Hjv_chYpfs",
        "outputId": "35a530f7-d8de-440c-d3f1-186af7607280"
      },
      "execution_count": 35,
      "outputs": [
        {
          "output_type": "stream",
          "name": "stderr",
          "text": [
            "/tmp/ipython-input-35-1082434047.py:13: FutureWarning: \n",
            "\n",
            "Passing `palette` without assigning `hue` is deprecated and will be removed in v0.14.0. Assign the `y` variable to `hue` and set `legend=False` for the same effect.\n",
            "\n",
            "  sns.barplot(x=importances[:10], y=importances[:10].index, palette=\"viridis\")\n"
          ]
        },
        {
          "output_type": "display_data",
          "data": {
            "text/plain": [
              "<Figure size 1000x600 with 1 Axes>"
            ],
            "image/png": "[encoded data removed]"
          },
          "metadata": {}
        }
      ]
    },
    {
      "cell_type": "markdown",
      "source": [],
      "metadata": {
        "id": "Ad0Gh9f_mP2M"
      }
    },
    {
      "cell_type": "code",
      "source": [
        "from sklearn.decomposition import PCA\n",
        "import numpy as np\n",
        "\n",
        "pca = PCA(n_components=3, random_state=42)\n",
        "X_train_pca = pca.fit_transform(X_train_prep)\n",
        "X_test_pca = pca.transform(X_test_prep)\n",
        "\n",
        "X_train_combined = np.hstack([X_train_prep, X_train_pca])\n",
        "X_test_combined = np.hstack([X_test_prep, X_test_pca])\n"
      ],
      "metadata": {
        "id": "-j96JvC-mX9y"
      },
      "execution_count": 36,
      "outputs": []
    },
    {
      "cell_type": "code",
      "source": [
        "from sklearn.feature_selection import SelectFromModel\n",
        "\n",
        "selector = SelectFromModel(RandomForestClassifier(random_state=42), threshold=\"median\")\n",
        "X_train_selected = selector.fit_transform(X_train_combined, y_train)\n",
        "X_test_selected = selector.transform(X_test_combined)\n"
      ],
      "metadata": {
        "id": "L6KuOpJ0orcK"
      },
      "execution_count": 38,
      "outputs": []
    },
    {
      "cell_type": "code",
      "source": [
        "smote = SMOTE(random_state=42)\n",
        "X_train_selected_res, y_train_selected_res = smote.fit_resample(X_train_selected, y_train)\n"
      ],
      "metadata": {
        "id": "OObxHsYMoyay"
      },
      "execution_count": 39,
      "outputs": []
    },
    {
      "cell_type": "code",
      "source": [
        "rf_selected = RandomForestClassifier(random_state=42)\n",
        "rf_selected.fit(X_train_selected_res, y_train_selected_res)\n",
        "\n",
        "evaluate_classification(rf_selected, X_train_selected_res, y_train_selected_res, X_test_selected, y_test)\n"
      ],
      "metadata": {
        "id": "tb4mCUnto2XK",
        "outputId": "6eb998c1-dc2f-40c2-9116-fc468a230009",
        "colab": {
          "base_uri": "https://localhost:8080/",
          "height": 1000
        }
      },
      "execution_count": 40,
      "outputs": [
        {
          "output_type": "stream",
          "name": "stdout",
          "text": [
            "----------------------------------------------------------------------\n",
            " Classification Metrics: Training Data\n",
            "----------------------------------------------------------------------\n",
            "              precision    recall  f1-score   support\n",
            "\n",
            "           0       0.99      0.98      0.99     25616\n",
            "           1       0.98      0.99      0.99     25616\n",
            "\n",
            "    accuracy                           0.99     51232\n",
            "   macro avg       0.99      0.99      0.99     51232\n",
            "weighted avg       0.99      0.99      0.99     51232\n",
            "\n"
          ]
        },
        {
          "output_type": "display_data",
          "data": {
            "text/plain": [
              "<Figure size 600x400 with 2 Axes>"
            ],
            "image/png": "[encoded data removed]"
          },
          "metadata": {}
        },
        {
          "output_type": "stream",
          "name": "stdout",
          "text": [
            "\n",
            "----------------------------------------------------------------------\n",
            " Classification Metrics: Test Data\n",
            "----------------------------------------------------------------------\n",
            "              precision    recall  f1-score   support\n",
            "\n",
            "           0       0.89      0.86      0.88      6404\n",
            "           1       0.62      0.68      0.65      2090\n",
            "\n",
            "    accuracy                           0.82      8494\n",
            "   macro avg       0.76      0.77      0.76      8494\n",
            "weighted avg       0.83      0.82      0.82      8494\n",
            "\n"
          ]
        },
        {
          "output_type": "display_data",
          "data": {
            "text/plain": [
              "<Figure size 600x400 with 2 Axes>"
            ],
            "image/png": "[encoded data removed]"
          },
          "metadata": {}
        }
      ]
    },
    {
      "cell_type": "code",
      "source": [
        "pca_feature_names = ['PCA_1', 'PCA_2', 'PCA_3']\n",
        "all_combined_feature_names = all_feature_names + pca_feature_names\n",
        "# This returns a boolean mask for the selected features.\n",
        "selected_mask = selector.get_support()\n",
        "\n",
        "# We use the mask to extract the names.\n",
        "selected_feature_names = np.array(all_combined_feature_names)[selected_mask]\n",
        "# Use actual feature names instead of numbers.\n",
        "importances_named = pd.Series(result.importances_mean, index=selected_feature_names)\n",
        "top_10_named = importances_named.sort_values(ascending=False)[:10]\n",
        "\n",
        "plt.figure(figsize=(10, 6))\n",
        "sns.barplot(x=top_10_named.values, y=top_10_named.index, palette=\"magma\")\n",
        "plt.title(\"Top 10 Features (Permutation Importance)\")\n",
        "plt.xlabel(\"Mean Importance Decrease\")\n",
        "plt.ylabel(\"Feature Name\")\n",
        "plt.tight_layout()\n",
        "plt.show()\n"
      ],
      "metadata": {
        "id": "b-MhFYzro6gq",
        "outputId": "d4675aa5-9ba6-4d48-d191-23af08080ec9",
        "colab": {
          "base_uri": "https://localhost:8080/",
          "height": 685
        }
      },
      "execution_count": 42,
      "outputs": [
        {
          "output_type": "stream",
          "name": "stderr",
          "text": [
            "/tmp/ipython-input-42-1582586182.py:14: FutureWarning: \n",
            "\n",
            "Passing `palette` without assigning `hue` is deprecated and will be removed in v0.14.0. Assign the `y` variable to `hue` and set `legend=False` for the same effect.\n",
            "\n",
            "  sns.barplot(x=top_10_named.values, y=top_10_named.index, palette=\"magma\")\n"
          ]
        },
        {
          "output_type": "display_data",
          "data": {
            "text/plain": [
              "<Figure size 1000x600 with 1 Axes>"
            ],
            "image/png": "[encoded data removed]"
          },
          "metadata": {}
        }
      ]
    }
  ]
}